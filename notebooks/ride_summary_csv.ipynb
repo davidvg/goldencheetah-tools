{
 "cells": [
  {
   "cell_type": "markdown",
   "metadata": {},
   "source": [
    "# List activities summary\n",
    "\n",
    "This notebook extracts information from the GoldenCheetah database and generates a CSV file. The goal is to create a list of activities to make it easier to select a route based on duration, distance, TSS, etc.\n",
    "\n",
    "For every activity, the following data are collected:\n",
    "\n",
    "- Date and time\n",
    "- Route\n",
    "- Duration\n",
    "- Distance\n",
    "- Elevation gain\n",
    "- CP, NP, TSS, IF"
   ]
  },
  {
   "cell_type": "code",
   "execution_count": 1,
   "metadata": {},
   "outputs": [],
   "source": [
    "import json\n",
    "import datetime as dt\n",
    "import pytz\n",
    "import csv"
   ]
  },
  {
   "cell_type": "code",
   "execution_count": 2,
   "metadata": {},
   "outputs": [],
   "source": [
    "athlete = 'david'\n",
    "gc_path = '/home/david/Documentos/goldencheetah/'\n",
    "athlete_path = gc_path + athlete + '/'\n",
    "rideDb_path = athlete_path + 'cache/rideDB.json'\n",
    "\n",
    "csv_file = './activities.csv'"
   ]
  },
  {
   "cell_type": "code",
   "execution_count": 3,
   "metadata": {},
   "outputs": [],
   "source": [
    "utc = pytz.utc\n",
    "tz = pytz.timezone('Europe/Madrid')"
   ]
  },
  {
   "cell_type": "markdown",
   "metadata": {},
   "source": [
    "## Load the data"
   ]
  },
  {
   "cell_type": "code",
   "execution_count": 4,
   "metadata": {},
   "outputs": [],
   "source": [
    "with open(rideDb_path, 'r', encoding='utf-8-sig') as f:\n",
    "    rideDB = json.load(f)"
   ]
  },
  {
   "cell_type": "code",
   "execution_count": 5,
   "metadata": {},
   "outputs": [
    {
     "data": {
      "text/plain": [
       "516"
      ]
     },
     "execution_count": 5,
     "metadata": {},
     "output_type": "execute_result"
    }
   ],
   "source": [
    "rides = rideDB['RIDES']\n",
    "len(rides)"
   ]
  },
  {
   "cell_type": "code",
   "execution_count": 6,
   "metadata": {},
   "outputs": [
    {
     "data": {
      "text/plain": [
       "['date',\n",
       " 'filename',\n",
       " 'fingerprint',\n",
       " 'crc',\n",
       " 'metacrc',\n",
       " 'timestamp',\n",
       " 'dbversion',\n",
       " 'udbversion',\n",
       " 'color',\n",
       " 'present',\n",
       " 'sport',\n",
       " 'weight',\n",
       " 'zonerange',\n",
       " 'hrzonerange',\n",
       " 'samples',\n",
       " 'METRICS',\n",
       " 'TAGS',\n",
       " 'INTERVALS']"
      ]
     },
     "execution_count": 6,
     "metadata": {},
     "output_type": "execute_result"
    }
   ],
   "source": [
    "ride = rides[-1]\n",
    "list(ride.keys())"
   ]
  },
  {
   "cell_type": "markdown",
   "metadata": {},
   "source": [
    "## Data extraction"
   ]
  },
  {
   "cell_type": "markdown",
   "metadata": {},
   "source": [
    "### Dates"
   ]
  },
  {
   "cell_type": "code",
   "execution_count": 7,
   "metadata": {},
   "outputs": [
    {
     "data": {
      "text/plain": [
       "'2020/12/22 13:30:04 UTC'"
      ]
     },
     "execution_count": 7,
     "metadata": {},
     "output_type": "execute_result"
    }
   ],
   "source": [
    "def get_date_str(ride):\n",
    "    return ride['date']\n",
    "\n",
    "get_date_str(ride)"
   ]
  },
  {
   "cell_type": "code",
   "execution_count": 8,
   "metadata": {},
   "outputs": [
    {
     "data": {
      "text/plain": [
       "datetime.datetime(2020, 12, 22, 14, 30, 4, tzinfo=<DstTzInfo 'Europe/Madrid' CET+1:00:00 STD>)"
      ]
     },
     "execution_count": 8,
     "metadata": {},
     "output_type": "execute_result"
    }
   ],
   "source": [
    "def get_datetime(ride):\n",
    "    fmt = '%Y/%m/%d %H:%M:%S %Z'\n",
    "    date = get_date_str(ride)\n",
    "    date_dt = dt.datetime.strptime(date, fmt)\n",
    "    date_dt = utc.localize(date_dt)\n",
    "    date_dt = date_dt.astimezone(tz)\n",
    "    return date_dt\n",
    "\n",
    "get_datetime(ride)"
   ]
  },
  {
   "cell_type": "code",
   "execution_count": 9,
   "metadata": {},
   "outputs": [
    {
     "data": {
      "text/plain": [
       "'2020/12/22 14:30:04 +0100'"
      ]
     },
     "execution_count": 9,
     "metadata": {},
     "output_type": "execute_result"
    }
   ],
   "source": [
    "def get_datetime_str(ride):\n",
    "    fmt = '%Y/%m/%d %H:%M:%S %z'\n",
    "    date = get_datetime(ride)\n",
    "    date = date.strftime(fmt)\n",
    "    return date\n",
    "\n",
    "get_datetime_str(ride)"
   ]
  },
  {
   "cell_type": "markdown",
   "metadata": {},
   "source": [
    "### Sport"
   ]
  },
  {
   "cell_type": "code",
   "execution_count": 10,
   "metadata": {},
   "outputs": [
    {
     "data": {
      "text/plain": [
       "'Bike'"
      ]
     },
     "execution_count": 10,
     "metadata": {},
     "output_type": "execute_result"
    }
   ],
   "source": [
    "def get_sport(ride):\n",
    "    sport = ride['sport']\n",
    "    return sport\n",
    "\n",
    "get_sport(ride)"
   ]
  },
  {
   "cell_type": "markdown",
   "metadata": {},
   "source": [
    "### Athlete's weight"
   ]
  },
  {
   "cell_type": "code",
   "execution_count": 11,
   "metadata": {},
   "outputs": [
    {
     "data": {
      "text/plain": [
       "71.3"
      ]
     },
     "execution_count": 11,
     "metadata": {},
     "output_type": "execute_result"
    }
   ],
   "source": [
    "def get_weight_float(ride):\n",
    "    weight = ride['weight']\n",
    "    weight = float(weight)\n",
    "    return weight\n",
    "\n",
    "get_weight_float(ride)"
   ]
  },
  {
   "cell_type": "markdown",
   "metadata": {},
   "source": [
    "### Ride has power data"
   ]
  },
  {
   "cell_type": "markdown",
   "metadata": {},
   "source": [
    "def has_power_data(ride):\n",
    "    try:\n",
    "        power_zones = ride['zonerange']\n",
    "        return True\n",
    "    except:\n",
    "        return False\n",
    "    \n",
    "has_power_data(ride)"
   ]
  },
  {
   "cell_type": "markdown",
   "metadata": {},
   "source": [
    "### Tags"
   ]
  },
  {
   "cell_type": "code",
   "execution_count": 12,
   "metadata": {},
   "outputs": [
    {
     "data": {
      "text/plain": [
       "dict_keys(['Aerobic TISS', 'Anaerobic TISS', 'Athlete', 'Average Cadence', 'Average Heart Rate', 'Average Power', 'Average Speed', 'BikeScore™', 'BikeStress', 'CP', 'Calendar Text', 'Change History', 'Daniels EqP', 'Daniels Points', 'Data', 'Device', 'Device Info', 'Distance', 'Duration', 'Elevation Gain', 'File Format', 'Filename', 'GOVSS', 'Keywords', 'Month', 'Notes', 'Objective', 'Pool Length', 'RPE', 'Route', 'Source Filename', 'Sport', 'SubSport', 'SwimScore', 'TSS', 'Time Moving', 'Weekday', 'Weight', 'Work', 'Workout Code', 'Year', 'xPower'])"
      ]
     },
     "execution_count": 12,
     "metadata": {},
     "output_type": "execute_result"
    }
   ],
   "source": [
    "def get_tags_dict(ride):\n",
    "    tags = ride['TAGS']\n",
    "    return tags\n",
    "    \n",
    "tags = get_tags_dict(ride)\n",
    "tags.keys()"
   ]
  },
  {
   "cell_type": "code",
   "execution_count": 13,
   "metadata": {},
   "outputs": [
    {
     "data": {
      "text/plain": [
       "{'Aerobic TISS': '0 ',\n",
       " 'Anaerobic TISS': '0 ',\n",
       " 'Athlete': 'david ',\n",
       " 'Average Cadence': '0 ',\n",
       " 'Average Heart Rate': '0 ',\n",
       " 'Average Power': '0 ',\n",
       " 'Average Speed': '0 ',\n",
       " 'BikeScore™': '0 ',\n",
       " 'BikeStress': '0 ',\n",
       " 'CP': '0 ',\n",
       " 'Calendar Text': 'Gijon-Infanzon-Venta las Ranas-El Pedroso-La Cruz de Peon-Curbiellu-Infanzon-Gijon\\n ',\n",
       " 'Change History': 'Cambios en mar. dic. 22 19:10:54 2020:\\nCambios en mar. dic. 22 19:11:13 2020:\\nCambios en mar. dic. 22 19:14:42 2020:\\nCambios en mar. dic. 22 19:21:29 2020:\\nCambios en mar. dic. 22 19:22:39 2020:\\nCambios en mar. dic. 22 19:23:00 2020:\\nCambios en mar. dic. 22 19:23:21 2020:\\nCambios en mar. dic. 22 19:25:37 2020:\\nCambios en mar. dic. 22 19:27:08 2020:\\nCambios en mar. dic. 22 19:28:24 2020:\\nCambios en mar. dic. 22 19:29:10 2020:\\nCambios en mar. dic. 22 19:29:21 2020:\\nCambios en mar. dic. 22 19:34:39 2020:\\n ',\n",
       " 'Daniels EqP': '0 ',\n",
       " 'Daniels Points': '0 ',\n",
       " 'Data': 'TDSPHC-AGL----- ',\n",
       " 'Device': 'Polar V650 ',\n",
       " 'Device Info': ' ',\n",
       " 'Distance': '0 ',\n",
       " 'Duration': '0 ',\n",
       " 'Elevation Gain': '0 ',\n",
       " 'File Format': ' ',\n",
       " 'Filename': '2020_12_22_14_30_04.json ',\n",
       " 'GOVSS': '0 ',\n",
       " 'Keywords': 'SS,SweetSpot,L4,Threshold ',\n",
       " 'Month': 'diciembre ',\n",
       " 'Notes': 'Salida una hora después de comer (spaghettis con bonito y tomate)\\nDurante la salida, un bollo de leche con chocolate y un gel.\\nIntenté hacer las subidas fuerte pero sin agotarme, forzar pero guardar energía para la vuelta por Peón.\\n\\nLa subida al Infanzón la hice muy irregular, yendo de menos a más, aunque al principio tuve que frenar un par de veces, primero por un camión parado y luego por el autobús.\\nLa subida desde Puente Arroes a Venta las Ranas la hice muy constante, siguiendo a El Pedroso también bastante regular a pesar de los cambios del final.\\nLa subida a La Cruz bastante constante, aunque costaba un poco generar watios y el pulso estaba un poco alto para el esfuerzo que hacía.\\nLa subida al Curbiellu la empecé un poco conservador, aunque al final apreté cási al máximo.\\n\\nEn la bajada del Infanzón ya se notaba cansancio en las piernas, y en los repechos me cansaba en seguida al esprintar. ',\n",
       " 'Objective': ' ',\n",
       " 'Pool Length': '0 ',\n",
       " 'RPE': '6 ',\n",
       " 'Route': 'Gijon-Infanzon-Venta las Ranas-El Pedroso-La Cruz de Peon-Curbiellu-Infanzon-Gijon ',\n",
       " 'Source Filename': 'David_Vazquez+Garcia_2020-12-22_14-30-03_2020_12_22_14_30_04.TCX ',\n",
       " 'Sport': 'Bike ',\n",
       " 'SubSport': 'Road ',\n",
       " 'SwimScore': '0 ',\n",
       " 'TSS': '0 ',\n",
       " 'Time Moving': '0 ',\n",
       " 'Weekday': 'mar. ',\n",
       " 'Weight': '0 ',\n",
       " 'Work': '0 ',\n",
       " 'Workout Code': 'Salida ',\n",
       " 'Year': '2020 ',\n",
       " 'xPower': '0 '}"
      ]
     },
     "execution_count": 13,
     "metadata": {},
     "output_type": "execute_result"
    }
   ],
   "source": [
    "tags"
   ]
  },
  {
   "cell_type": "markdown",
   "metadata": {},
   "source": [
    "#### Device"
   ]
  },
  {
   "cell_type": "code",
   "execution_count": 14,
   "metadata": {},
   "outputs": [
    {
     "data": {
      "text/plain": [
       "'Polar V650'"
      ]
     },
     "execution_count": 14,
     "metadata": {},
     "output_type": "execute_result"
    }
   ],
   "source": [
    "def get_device(ride):\n",
    "    tags = get_tags_dict(ride)\n",
    "    device  = tags['Device']\n",
    "    device = device.strip(' \\n')\n",
    "    return device\n",
    "\n",
    "get_device(ride)"
   ]
  },
  {
   "cell_type": "markdown",
   "metadata": {},
   "source": [
    "#### Route"
   ]
  },
  {
   "cell_type": "code",
   "execution_count": 15,
   "metadata": {},
   "outputs": [
    {
     "data": {
      "text/plain": [
       "'Gijon-Infanzon-Venta las Ranas-El Pedroso-La Cruz de Peon-Curbiellu-Infanzon-Gijon'"
      ]
     },
     "execution_count": 15,
     "metadata": {},
     "output_type": "execute_result"
    }
   ],
   "source": [
    "def get_route(ride):\n",
    "    tags = get_tags_dict(ride)\n",
    "    try:\n",
    "        route = tags['Route']\n",
    "        route = route.strip(' \\n')\n",
    "        route = route.replace(' - ', '-')\n",
    "    except:\n",
    "        route = ''\n",
    "    return route\n",
    "\n",
    "get_route(ride)"
   ]
  },
  {
   "cell_type": "markdown",
   "metadata": {},
   "source": [
    "#### Flags\n",
    "\n",
    "['Extra' tab](https://github.com/GoldenCheetah/GoldenCheetah/wiki/UG_ChartTypes_Activities#extra-tab)\n",
    "\n",
    "This data can help detect rides with missing data (cadence, power, etc)\n",
    "\n",
    "| Pos | Char | Description |\n",
    "|:---:|:----:|:------------|\n",
    "| 0   | T    | Time |\n",
    "| 1   | D    | Distance |\n",
    "| 2   | S    | Speed |\n",
    "| 3   | P    | Power |\n",
    "| 4   | H    | Heart rate |\n",
    "| 5   | C    | Cadence |\n",
    "| 6   | N    | Torque |\n",
    "| 7   | A    | Altitude |\n",
    "| 8   | G    | GPS |\n",
    "| 9   | L    | Slope |\n",
    "| 10  | W    | Wind speed |\n",
    "| 11  | E    | Temperature |\n",
    "| 12  | V    | Left/Right balance |\n"
   ]
  },
  {
   "cell_type": "code",
   "execution_count": 16,
   "metadata": {},
   "outputs": [
    {
     "data": {
      "text/plain": [
       "'TDSPHC-AGL----- '"
      ]
     },
     "execution_count": 16,
     "metadata": {},
     "output_type": "execute_result"
    }
   ],
   "source": [
    "def get_flags(ride):\n",
    "    tags = get_tags_dict(ride)\n",
    "    flags = tags['Data']\n",
    "    \n",
    "    return flags\n",
    "\n",
    "get_flags(ride)"
   ]
  },
  {
   "cell_type": "code",
   "execution_count": 17,
   "metadata": {},
   "outputs": [],
   "source": [
    "flags_mapper = {\n",
    "    'time': {'pos': 0, 'val': 'T'},\n",
    "    'distance': {'pos': 1, 'val': 'D'},\n",
    "    'speed': {'pos': 2, 'val': 'S'},\n",
    "    'power': {'pos': 3, 'val': 'P'},\n",
    "    'heart_rate': {'pos': 4, 'val': 'H'},\n",
    "    'cadence': {'pos': 5, 'val': 'C'},\n",
    "    'torque': {'pos': 6, 'val': 'N'},\n",
    "    'altitude': {'pos': 7, 'val': 'A'},\n",
    "    'gps': {'pos': 8, 'val': 'G'},\n",
    "    'slope': {'pos': 9, 'val': 'L'},\n",
    "    'wind': {'pos': 10, 'val': 'W'},\n",
    "    'temperature': {'pos': 11, 'val': 'E'},\n",
    "    'balance': {'pos': 12, 'val': 'V'},\n",
    "}"
   ]
  },
  {
   "cell_type": "code",
   "execution_count": 18,
   "metadata": {},
   "outputs": [
    {
     "data": {
      "text/plain": [
       "True"
      ]
     },
     "execution_count": 18,
     "metadata": {},
     "output_type": "execute_result"
    }
   ],
   "source": [
    "def get_flag_bool(ride, flag):\n",
    "    flags = get_flags(ride)\n",
    "    #pos = flags_mapper[flag]['pos']\n",
    "    val = flags_mapper[flag]['val']\n",
    "    #res = flags[pos] == val\n",
    "    #return res\n",
    "    return val in flags\n",
    "\n",
    "get_flag_bool(ride, 'time')"
   ]
  },
  {
   "cell_type": "markdown",
   "metadata": {},
   "source": [
    "#### Ride has power data"
   ]
  },
  {
   "cell_type": "code",
   "execution_count": 19,
   "metadata": {},
   "outputs": [
    {
     "data": {
      "text/plain": [
       "True"
      ]
     },
     "execution_count": 19,
     "metadata": {},
     "output_type": "execute_result"
    }
   ],
   "source": [
    "def has_power_data(ride):\n",
    "    res = get_flag_bool(ride, 'power')\n",
    "    return res\n",
    "\n",
    "has_power_data(ride)"
   ]
  },
  {
   "cell_type": "markdown",
   "metadata": {},
   "source": [
    "#### Ride has distance"
   ]
  },
  {
   "cell_type": "code",
   "execution_count": 20,
   "metadata": {},
   "outputs": [
    {
     "data": {
      "text/plain": [
       "True"
      ]
     },
     "execution_count": 20,
     "metadata": {},
     "output_type": "execute_result"
    }
   ],
   "source": [
    "def has_distance_data(ride):\n",
    "    res = get_flag_bool(ride, 'distance')\n",
    "    return res\n",
    "\n",
    "has_distance_data(ride)"
   ]
  },
  {
   "cell_type": "markdown",
   "metadata": {},
   "source": [
    "#### Ride has cadence data"
   ]
  },
  {
   "cell_type": "code",
   "execution_count": 21,
   "metadata": {},
   "outputs": [
    {
     "data": {
      "text/plain": [
       "True"
      ]
     },
     "execution_count": 21,
     "metadata": {},
     "output_type": "execute_result"
    }
   ],
   "source": [
    "def has_cadence_data(ride):\n",
    "    res = get_flag_bool(ride, 'cadence')\n",
    "    return res\n",
    "\n",
    "has_cadence_data(ride)"
   ]
  },
  {
   "cell_type": "markdown",
   "metadata": {},
   "source": [
    "#### Ride has heart rate data"
   ]
  },
  {
   "cell_type": "code",
   "execution_count": 22,
   "metadata": {},
   "outputs": [
    {
     "data": {
      "text/plain": [
       "True"
      ]
     },
     "execution_count": 22,
     "metadata": {},
     "output_type": "execute_result"
    }
   ],
   "source": [
    "def has_heart_rate_data(ride):\n",
    "    res = get_flag_bool(ride, 'heart_rate')\n",
    "    return res\n",
    "\n",
    "has_heart_rate_data(ride)"
   ]
  },
  {
   "cell_type": "markdown",
   "metadata": {},
   "source": [
    "#### Ride has speed data"
   ]
  },
  {
   "cell_type": "code",
   "execution_count": 23,
   "metadata": {},
   "outputs": [
    {
     "data": {
      "text/plain": [
       "True"
      ]
     },
     "execution_count": 23,
     "metadata": {},
     "output_type": "execute_result"
    }
   ],
   "source": [
    "def has_speed_data(ride):\n",
    "    res = get_flag_bool(ride, 'speed')\n",
    "    return res\n",
    "\n",
    "has_speed_data(ride)"
   ]
  },
  {
   "cell_type": "markdown",
   "metadata": {},
   "source": [
    "#### Keywords"
   ]
  },
  {
   "cell_type": "code",
   "execution_count": 24,
   "metadata": {},
   "outputs": [
    {
     "data": {
      "text/plain": [
       "'SS,SweetSpot,L4,Threshold'"
      ]
     },
     "execution_count": 24,
     "metadata": {},
     "output_type": "execute_result"
    }
   ],
   "source": [
    "def get_keywords(ride):\n",
    "    tags = get_tags_dict(ride)\n",
    "    try:\n",
    "        keywords = tags['Keywords']\n",
    "        keywords = keywords.strip(' \\n')\n",
    "    except:\n",
    "        keywords = ''\n",
    "    return keywords\n",
    "\n",
    "get_keywords(ride)"
   ]
  },
  {
   "cell_type": "markdown",
   "metadata": {},
   "source": [
    "### Metrics"
   ]
  },
  {
   "cell_type": "code",
   "execution_count": 25,
   "metadata": {},
   "outputs": [
    {
     "data": {
      "text/plain": [
       "dict_keys(['a_skiba_xpower', 'a_skiba_relative_intensity', 'a_skiba_bike_score', 'a_skiba_variability_index', 'a_skiba_response_index', 'a_coggan_np', 'a_coggan_if', 'a_coggan_tss', 'a_coggam_variability_index', 'a_friel_efficiency_factor', 'a_coggan_tssperhour', 'aerobic_decoupling', 'power_index', 'peak_power_index', 'activity_date', 'ride_count', 'workout_time', 'time_recording', 'time_riding', 'time_carrying', 'total_distance', 'climb_rating', 'athlete_weight', 'elevation_gain', 'elevation_loss', 'total_work', 'average_speed', 'average_power', 'average_apower', 'nonzero_power', 'average_hr', 'average_ct', 'heartbeats', 'hrpw', 'wb', 'wattsRPE', 'ap_percent_max', 'hrnp', 'average_cad', 'average_temp', 'max_power', 'max_heartrate', 'min_heartrate', 'max_ct', 'max_speed', 'max_cadence', 'max_temp', 'min_temp', 'ninety_five_percent_hr', 'vam', 'eoa', 'gradient', 'meanpowervariance', 'maxpowervariance', 'activity_crc', 'atiss_score', 'antiss_score', 'cp_setting', 'skiba_xpower', 'skiba_relative_intensity', 'skiba_bike_score', 'skiba_variability_index', 'tiss_delta', 'skiba_response_index', 'coggan_np', 'coggan_if', 'coggan_tss', 'coggam_variability_index', 'friel_efficiency_factor', 'coggan_tssperhour', 'cpsolver_best_r', 'daniels_points', 'daniels_equivalent_power', 'time_in_zone_H1', 'time_in_zone_H2', 'time_in_zone_H3', 'time_in_zone_H4', 'time_in_zone_H5', 'percent_in_zone_H1', 'percent_in_zone_H2', 'percent_in_zone_H3', 'percent_in_zone_H4', 'percent_in_zone_H5', 'percent_in_zone_H6', 'percent_in_zone_H7', 'percent_in_zone_H8', 'percent_in_zone_H9', 'percent_in_zone_H10', 'best_50m', 'best_100m', 'best_200m', 'best_400m', 'best_500m', 'best_800m', 'best_1000m', 'best_1500m', 'best_2000m', 'best_3000m', 'best_4000m', 'best_5000m', 'best_10km', 'best_15km', 'best_20km', 'best_half_marathon', 'best_30km', 'best_40km', 'best_Marathon', 'peak_percent', 'power_zone', 'power_fatigue_index', 'power_pacing_index', '1s_critical_power', '5s_critical_power', '10s_critical_power', '15s_critical_power', '20s_critical_power', '30s_critical_power', '1m_critical_power', '2m_critical_power', '3m_critical_power', '5m_critical_power', '8m_critical_power', '10m_critical_power', '20m_critical_power', '30m_critical_power', '60m_critical_power', '90m_critical_power', '1m_critical_power_hr', '5m_critical_power_hr', '10m_critical_power_hr', '20m_critical_power_hr', '30m_critical_power_hr', '60m_critical_power_hr', 'hr_zone', '1m_peak_hr', '2m_peak_hr', '3m_peak_hr', '5m_peak_hr', '8m_peak_hr', '10m_peak_hr', '20m_peak_hr', '30m_peak_hr', '60m_peak_hr', '90m_peak_hr', 'average_run_cad', 'max_run_cadence', 'pace', 'efficiency_index', 'average_stride_length', 'distance_swim', 'l4_sustain', 'l5_sustain', 'l6_sustain', 'l7_sustain', 'triscore', 'time_in_zone_L1', 'time_in_zone_L2', 'time_in_zone_L3', 'time_in_zone_L4', 'time_in_zone_L5', 'time_in_zone_L6', 'time_in_zone_L7', 'percent_in_zone_L1', 'percent_in_zone_L2', 'percent_in_zone_L3', 'percent_in_zone_L4', 'percent_in_zone_L5', 'percent_in_zone_L6', 'percent_in_zone_L7', 'percent_in_zone_L8', 'percent_in_zone_L9', 'percent_in_zone_L10', 'trimp_points', 'trimp_100_points', 'trimp_zonal_points', 'session_rpe', '1s_peak_wpk', '5s_peak_wpk', '10s_peak_wpk', '15s_peak_wpk', '20s_peak_wpk', '30s_peak_wpk', '1m_peak_wpk', '5m_peak_wpk', '10m_peak_wpk', '20m_peak_wpk', '30m_peak_wpk', '60m_peak_wpk', 'vo2max', 'average_wpk', 'skiba_wprime_low', 'skiba_wprime_max', 'skiba_wprime_matches', 'skiba_wprime_maxmatch', 'skiba_wprime_tau', 'skiba_wprime_exp', 'skiba_wprime_watts', 'wcptime_in_zone_L1', 'wcptime_in_zone_L2', 'wcptime_in_zone_L3', 'wcptime_in_zone_L4', 'wtime_in_zone_L1', 'wtime_in_zone_L2', 'wtime_in_zone_L3', 'wtime_in_zone_L4', 'wwork_in_zone_L1', 'wwork_in_zone_L2', 'wwork_in_zone_L3', 'wwork_in_zone_L4', 'skiba_cp_exp', 'compatibility_3', 'compatibility_2', 'compatibility_1'])"
      ]
     },
     "execution_count": 25,
     "metadata": {},
     "output_type": "execute_result"
    }
   ],
   "source": [
    "def get_metrics_dict(ride):\n",
    "    metrics = ride['METRICS']\n",
    "    return metrics\n",
    "\n",
    "metrics = get_metrics_dict(ride)\n",
    "metrics.keys()"
   ]
  },
  {
   "cell_type": "markdown",
   "metadata": {},
   "source": [
    "#### Duration"
   ]
  },
  {
   "cell_type": "code",
   "execution_count": 26,
   "metadata": {},
   "outputs": [
    {
     "data": {
      "text/plain": [
       "7772.0"
      ]
     },
     "execution_count": 26,
     "metadata": {},
     "output_type": "execute_result"
    }
   ],
   "source": [
    "def get_duration_secs(ride):\n",
    "    metrics = get_metrics_dict(ride)\n",
    "    try:\n",
    "        duration = metrics['time_riding']\n",
    "        duration = float(duration)\n",
    "    except:\n",
    "        duration = -1\n",
    "    return duration\n",
    "\n",
    "get_duration_secs(ride)"
   ]
  },
  {
   "cell_type": "markdown",
   "metadata": {},
   "source": [
    "#### Distance"
   ]
  },
  {
   "cell_type": "code",
   "execution_count": 27,
   "metadata": {},
   "outputs": [
    {
     "data": {
      "text/plain": [
       "51.8"
      ]
     },
     "execution_count": 27,
     "metadata": {},
     "output_type": "execute_result"
    }
   ],
   "source": [
    "def get_distance_km(ride):\n",
    "    metrics = get_metrics_dict(ride)\n",
    "    try:\n",
    "        distance = metrics['total_distance']\n",
    "        distance = float(distance)\n",
    "        distance = '{0:.1f}'.format(distance)\n",
    "        distance = float(distance)\n",
    "    except:\n",
    "        distance = -1\n",
    "    return distance\n",
    "\n",
    "get_distance_km(ride)"
   ]
  },
  {
   "cell_type": "markdown",
   "metadata": {},
   "source": [
    "#### Elevation gain"
   ]
  },
  {
   "cell_type": "code",
   "execution_count": 28,
   "metadata": {},
   "outputs": [
    {
     "data": {
      "text/plain": [
       "821.0"
      ]
     },
     "execution_count": 28,
     "metadata": {},
     "output_type": "execute_result"
    }
   ],
   "source": [
    "def get_elevation_gain(ride):\n",
    "    metrics = get_metrics_dict(ride)\n",
    "    try:\n",
    "        elevation = metrics['elevation_gain']\n",
    "        elevation = float(elevation)\n",
    "    except:\n",
    "        elevation = 0\n",
    "    return elevation\n",
    "\n",
    "get_elevation_gain(ride)"
   ]
  },
  {
   "cell_type": "markdown",
   "metadata": {},
   "source": [
    "#### Normalized Power"
   ]
  },
  {
   "cell_type": "code",
   "execution_count": 29,
   "metadata": {},
   "outputs": [
    {
     "data": {
      "text/plain": [
       "204.7"
      ]
     },
     "execution_count": 29,
     "metadata": {},
     "output_type": "execute_result"
    }
   ],
   "source": [
    "def get_norm_power(ride):\n",
    "    metrics = get_metrics_dict(ride)\n",
    "    try:\n",
    "        np = metrics['coggan_np']\n",
    "        np = np[0]\n",
    "        np = float(np)\n",
    "        np = '{0:.1f}'.format(np)\n",
    "        np = float(np)\n",
    "    except:\n",
    "        np = -1\n",
    "    return np\n",
    "\n",
    "get_norm_power(ride)"
   ]
  },
  {
   "cell_type": "markdown",
   "metadata": {},
   "source": [
    "#### TSS"
   ]
  },
  {
   "cell_type": "code",
   "execution_count": 30,
   "metadata": {},
   "outputs": [
    {
     "data": {
      "text/plain": [
       "167.0"
      ]
     },
     "execution_count": 30,
     "metadata": {},
     "output_type": "execute_result"
    }
   ],
   "source": [
    "def get_tss(ride):\n",
    "    #if has_power_data(ride):\n",
    "    metrics = get_metrics_dict(ride)\n",
    "    try:\n",
    "        tss = metrics['coggan_tss']\n",
    "        tss = float(tss)\n",
    "        tss = '{0:.0f}'.format(tss)\n",
    "        tss = float(tss)\n",
    "    except:\n",
    "        tss = -1\n",
    "    return tss\n",
    "\n",
    "get_tss(ride)"
   ]
  },
  {
   "cell_type": "markdown",
   "metadata": {},
   "source": [
    "#### Intensity Factor"
   ]
  },
  {
   "cell_type": "code",
   "execution_count": 31,
   "metadata": {},
   "outputs": [
    {
     "data": {
      "text/plain": [
       "0.87"
      ]
     },
     "execution_count": 31,
     "metadata": {},
     "output_type": "execute_result"
    }
   ],
   "source": [
    "def get_intensity_factor(ride):\n",
    "    metrics = get_metrics_dict(ride)\n",
    "    try:\n",
    "        intensity = metrics['coggan_if']\n",
    "        intensity = intensity[0]\n",
    "        intensity = float(intensity)\n",
    "        intensity = '{0:.2f}'.format(intensity)\n",
    "        intensity = float(intensity)\n",
    "    except:\n",
    "        intensity = -1\n",
    "    return intensity\n",
    "\n",
    "get_intensity_factor(ride)"
   ]
  },
  {
   "cell_type": "markdown",
   "metadata": {},
   "source": [
    "#### Functional Threshold Power (FTP)"
   ]
  },
  {
   "cell_type": "code",
   "execution_count": 32,
   "metadata": {},
   "outputs": [
    {
     "data": {
      "text/plain": [
       "235.0"
      ]
     },
     "execution_count": 32,
     "metadata": {},
     "output_type": "execute_result"
    }
   ],
   "source": [
    "def get_ftp(ride):\n",
    "    metrics = get_metrics_dict(ride)\n",
    "    try:\n",
    "        cp = metrics['cp_setting']\n",
    "        return float(cp)\n",
    "    except:\n",
    "        return -1\n",
    "    \n",
    "get_ftp(ride)"
   ]
  },
  {
   "cell_type": "markdown",
   "metadata": {},
   "source": [
    "#### Average heart rate"
   ]
  },
  {
   "cell_type": "code",
   "execution_count": 33,
   "metadata": {},
   "outputs": [
    {
     "data": {
      "text/plain": [
       "165.0"
      ]
     },
     "execution_count": 33,
     "metadata": {},
     "output_type": "execute_result"
    }
   ],
   "source": [
    "def get_average_hr(ride):\n",
    "    metrics = get_metrics_dict(ride)\n",
    "    try:\n",
    "        hr = metrics['average_hr'][0]\n",
    "        hr = float(hr)\n",
    "        hr = '{0:.0f}'.format(hr)\n",
    "        hr = float(hr)\n",
    "    except:\n",
    "        hr = -1\n",
    "    return hr\n",
    "\n",
    "get_average_hr(ride)"
   ]
  },
  {
   "cell_type": "markdown",
   "metadata": {},
   "source": [
    "#### Average speed"
   ]
  },
  {
   "cell_type": "code",
   "execution_count": 34,
   "metadata": {},
   "outputs": [
    {
     "data": {
      "text/plain": [
       "24.1"
      ]
     },
     "execution_count": 34,
     "metadata": {},
     "output_type": "execute_result"
    }
   ],
   "source": [
    "def get_average_speed(ride):\n",
    "    metrics = get_metrics_dict(ride)\n",
    "    try:\n",
    "        speed = metrics['average_speed']\n",
    "        speed = float(speed)\n",
    "        speed = '{0:.1f}'.format(speed)\n",
    "        speed = float(speed)\n",
    "    except:\n",
    "        speed = -1\n",
    "    return speed\n",
    "\n",
    "get_average_speed(ride)"
   ]
  },
  {
   "cell_type": "markdown",
   "metadata": {},
   "source": [
    "## Generate the CSV file"
   ]
  },
  {
   "cell_type": "code",
   "execution_count": 35,
   "metadata": {},
   "outputs": [],
   "source": [
    "with open(csv_file, 'w') as f:\n",
    "    writer = csv.writer(f)\n",
    "    \n",
    "    header = ['date', 'route', 'duration_secs', 'distance_km', 'elevation', 'ftp', 'np', 'tss', 'if', 'hr', 'speed', 'sport', 'device', 'weight', 'keywords']\n",
    "    writer.writerow(header)\n",
    "    \n",
    "    for ride in rides:\n",
    "        device = get_device(ride)\n",
    "        sport = get_sport(ride)\n",
    "\n",
    "        if ('Polar' in device) and ('Bike' in sport):\n",
    "            try:\n",
    "                date = get_datetime_str(ride)\n",
    "                route = get_route(ride)\n",
    "                duration = get_duration_secs(ride)\n",
    "                distance = get_distance_km(ride)\n",
    "                elevation = get_elevation_gain(ride)\n",
    "                cp = get_ftp(ride)\n",
    "                np = get_norm_power(ride)\n",
    "                tss = get_tss(ride)\n",
    "                if_ = get_intensity_factor(ride)\n",
    "                hr = get_average_hr(ride)\n",
    "                speed = get_average_speed(ride)\n",
    "                weight = get_weight_float(ride)\n",
    "                keywords = get_keywords(ride)\n",
    "\n",
    "                writer.writerow([date, route, duration, distance, elevation, cp, np, tss, if_, hr, speed, sport, device, weight, keywords])\n",
    "            except:\n",
    "                print(date)\n",
    "                raise"
   ]
  }
 ],
 "metadata": {
  "kernelspec": {
   "display_name": "Python 3",
   "language": "python",
   "name": "python3"
  },
  "language_info": {
   "codemirror_mode": {
    "name": "ipython",
    "version": 3
   },
   "file_extension": ".py",
   "mimetype": "text/x-python",
   "name": "python",
   "nbconvert_exporter": "python",
   "pygments_lexer": "ipython3",
   "version": "3.8.5"
  }
 },
 "nbformat": 4,
 "nbformat_minor": 4
}

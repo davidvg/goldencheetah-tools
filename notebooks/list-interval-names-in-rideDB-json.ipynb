{
 "cells": [
  {
   "cell_type": "markdown",
   "metadata": {},
   "source": [
    "# Listing all the rides containing an Interval\n",
    "\n",
    "In this notebook all rides are explored to check if they contain a given interval. This is done in the `rideDB.json` file."
   ]
  },
  {
   "cell_type": "code",
   "execution_count": 2,
   "metadata": {},
   "outputs": [],
   "source": [
    "import json"
   ]
  },
  {
   "cell_type": "code",
   "execution_count": 3,
   "metadata": {},
   "outputs": [],
   "source": [
    "rideDB_path = '/home/david/Documentos/goldencheetah/david/cache/rideDB.json'"
   ]
  },
  {
   "cell_type": "markdown",
   "metadata": {},
   "source": [
    "## Load all the rides"
   ]
  },
  {
   "cell_type": "code",
   "execution_count": 4,
   "metadata": {},
   "outputs": [],
   "source": [
    "with open(rideDB_path, 'r', encoding='utf-8-sig') as f:\n",
    "    rideDB = json.load(f)\n",
    "\n",
    "rides = rideDB['RIDES']"
   ]
  },
  {
   "cell_type": "code",
   "execution_count": 5,
   "metadata": {},
   "outputs": [
    {
     "name": "stdout",
     "output_type": "stream",
     "text": [
      "\"rides\" is of type: list\n",
      "\"rides\" contains 512 activities\n"
     ]
    }
   ],
   "source": [
    "print('\"rides\" is of type: {}'.format(type(rides).__name__))\n",
    "print('\"rides\" contains {} activities'.format(len(rides)))"
   ]
  },
  {
   "cell_type": "markdown",
   "metadata": {},
   "source": [
    "## Get a list of all the intervals"
   ]
  },
  {
   "cell_type": "code",
   "execution_count": 14,
   "metadata": {
    "scrolled": false
   },
   "outputs": [
    {
     "name": "stdout",
     "output_type": "stream",
     "text": [
      "Actividad Completa \n",
      "Int 1 \n",
      "15' L3 @95 \n",
      "Int 3 \n",
      "Int 5 \n",
      "1 segundo (261 vatios) \n",
      "5 segundos (215 vatios) \n",
      "10 segundos (207 vatios) \n",
      "15 segundos (203 vatios) \n",
      "20 segundos (203 vatios) \n",
      "30 segundos (202 vatios) \n",
      "1 minuto (199 vatios) \n",
      "5 minutos (196 vatios) \n",
      "10 minutos (193 vatios) \n",
      "20 minutos (178 vatios) \n",
      "30 minutos (181 vatios) \n",
      "45 minutos (172 vatios) \n",
      "1 hora (158 vatios) \n"
     ]
    }
   ],
   "source": [
    "def get_list_of_intervals(rides):\n",
    "    res = []\n",
    "    \n",
    "    for ride in rides[-1:]:\n",
    "        try:\n",
    "            intervals = ride['INTERVALS']\n",
    "        except:\n",
    "            print('Ride {} has no intervals'.format(ride['date']))\n",
    "            \n",
    "        for interval in intervals:\n",
    "            name = interval['name']\n",
    "            if name not in res:\n",
    "                res.append(name)\n",
    "        \n",
    "    return res\n",
    "\n",
    "\n",
    "interval_list = get_list_of_intervals(rides)\n",
    "for name in interval_list:\n",
    "    print(name)"
   ]
  }
 ],
 "metadata": {
  "kernelspec": {
   "display_name": "Python 3",
   "language": "python",
   "name": "python3"
  },
  "language_info": {
   "codemirror_mode": {
    "name": "ipython",
    "version": 3
   },
   "file_extension": ".py",
   "mimetype": "text/x-python",
   "name": "python",
   "nbconvert_exporter": "python",
   "pygments_lexer": "ipython3",
   "version": "3.8.5"
  }
 },
 "nbformat": 4,
 "nbformat_minor": 4
}

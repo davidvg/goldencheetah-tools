{
 "cells": [
  {
   "cell_type": "markdown",
   "metadata": {},
   "source": [
    "# Structure of the `rideBD.json` file"
   ]
  },
  {
   "cell_type": "code",
   "execution_count": 1,
   "metadata": {},
   "outputs": [],
   "source": [
    "import json"
   ]
  },
  {
   "cell_type": "code",
   "execution_count": 2,
   "metadata": {},
   "outputs": [],
   "source": [
    "rideDB_path = '/home/david/Documentos/goldencheetah/david/cache/rideDB.json'\n",
    "activity_file = '2019_10_27_09_26_16.json'"
   ]
  },
  {
   "cell_type": "markdown",
   "metadata": {},
   "source": [
    "simple_values = ['date',\n",
    "                 'filename',\n",
    "                'fingerprint',\n",
    "                'crc',\n",
    "                ]\n",
    "list_values = ['INTERVALS']\n",
    "dict_values = []"
   ]
  },
  {
   "cell_type": "markdown",
   "metadata": {},
   "source": [
    " ## Read `rideDB.json` file"
   ]
  },
  {
   "cell_type": "code",
   "execution_count": 3,
   "metadata": {},
   "outputs": [],
   "source": [
    "with open(rideDB_path, 'r', encoding='utf-8-sig') as f:\n",
    "    rideDB = json.load(f)"
   ]
  },
  {
   "cell_type": "markdown",
   "metadata": {},
   "source": [
    "The JSON has two keys:"
   ]
  },
  {
   "cell_type": "code",
   "execution_count": 4,
   "metadata": {},
   "outputs": [
    {
     "data": {
      "text/plain": [
       "dict_keys(['VERSION', 'RIDES'])"
      ]
     },
     "execution_count": 4,
     "metadata": {},
     "output_type": "execute_result"
    }
   ],
   "source": [
    "rideDB.keys()"
   ]
  },
  {
   "cell_type": "code",
   "execution_count": 5,
   "metadata": {},
   "outputs": [
    {
     "data": {
      "text/plain": [
       "'2.0'"
      ]
     },
     "execution_count": 5,
     "metadata": {},
     "output_type": "execute_result"
    }
   ],
   "source": [
    "rideDB['VERSION']"
   ]
  },
  {
   "cell_type": "markdown",
   "metadata": {},
   "source": [
    "## List of rides"
   ]
  },
  {
   "cell_type": "code",
   "execution_count": 6,
   "metadata": {},
   "outputs": [],
   "source": [
    "rides = rideDB['RIDES']"
   ]
  },
  {
   "cell_type": "code",
   "execution_count": 7,
   "metadata": {},
   "outputs": [
    {
     "data": {
      "text/plain": [
       "list"
      ]
     },
     "execution_count": 7,
     "metadata": {},
     "output_type": "execute_result"
    }
   ],
   "source": [
    "type(rides)"
   ]
  },
  {
   "cell_type": "markdown",
   "metadata": {},
   "source": [
    "## Ride"
   ]
  },
  {
   "cell_type": "code",
   "execution_count": 8,
   "metadata": {},
   "outputs": [
    {
     "data": {
      "text/plain": [
       "dict"
      ]
     },
     "execution_count": 8,
     "metadata": {},
     "output_type": "execute_result"
    }
   ],
   "source": [
    "ride = rides[-1]\n",
    "type(ride)"
   ]
  },
  {
   "cell_type": "markdown",
   "metadata": {},
   "source": [
    "## Elements in the ride"
   ]
  },
  {
   "cell_type": "markdown",
   "metadata": {},
   "source": [
    "The ride has a tree structure.\n",
    "\n",
    "In the first level of the tree there are a series of simple value elements, followed by other elements that containg more elements."
   ]
  },
  {
   "cell_type": "code",
   "execution_count": 9,
   "metadata": {},
   "outputs": [
    {
     "data": {
      "text/plain": [
       "dict_keys(['date', 'filename', 'fingerprint', 'crc', 'metacrc', 'timestamp', 'dbversion', 'udbversion', 'color', 'present', 'sport', 'weight', 'zonerange', 'hrzonerange', 'samples', 'METRICS', 'TAGS', 'INTERVALS'])"
      ]
     },
     "execution_count": 9,
     "metadata": {},
     "output_type": "execute_result"
    }
   ],
   "source": [
    "ride.keys()"
   ]
  },
  {
   "cell_type": "markdown",
   "metadata": {},
   "source": [
    "- Ride\n",
    "    - `date`\n",
    "    - `filename`\n",
    "    - `fingerprint`\n",
    "    - `crc`\n",
    "    - `metacrc`\n",
    "    - `timestamp`\n",
    "    - `dbversion`\n",
    "    - `udbversion`\n",
    "    - `color`\n",
    "    - `present`\n",
    "    - `sport`\n",
    "    - `weight`\n",
    "    - `zonerange`\n",
    "    - `hrzonerange`\n",
    "    - `samples`\n",
    "    - `METRICS`: a dictionary containing the metrics for the complete activity.\n",
    "    - `TAGS`: a dictionary containing the same tags that are listed in the activity file.\n",
    "    - `INTERVALS`: a list of intervals, starting with the complete activity and followed by any other interval created by the user, as well as those intervals automatically created by GoldenCheetah: ascensions, matches, best efforts, etc. For each interval, the following information is included:\n",
    "        - `name`\n",
    "        - `start`\n",
    "        - `stop`\n",
    "        - `startKM`\n",
    "        - `stopKM`\n",
    "        - `type`\n",
    "        - `test`\n",
    "        - `color`\n",
    "        - `seq`\n",
    "        - `METRICS`: the metrics for the interval."
   ]
  },
  {
   "cell_type": "markdown",
   "metadata": {},
   "source": [
    "### Simple value elements"
   ]
  },
  {
   "cell_type": "code",
   "execution_count": 10,
   "metadata": {},
   "outputs": [],
   "source": [
    "def print_simple_values(ride):\n",
    "    for k, v in ride.items():\n",
    "        if isinstance(v, str):\n",
    "            print('{} --> {}'.format(k, v))"
   ]
  },
  {
   "cell_type": "code",
   "execution_count": 11,
   "metadata": {},
   "outputs": [
    {
     "name": "stdout",
     "output_type": "stream",
     "text": [
      "date --> 2020/12/06 09:07:56 UTC\n",
      "filename --> 2020_12_06_10_07_56.json\n",
      "fingerprint --> 187667\n",
      "crc --> 0\n",
      "metacrc --> 35093\n",
      "timestamp --> 1607297531\n",
      "dbversion --> 155\n",
      "udbversion --> 41265\n",
      "color --> #ffaa00\n",
      "present --> T--PHC-A-------\n",
      "sport --> Bike\n",
      "weight --> 71.3\n",
      "zonerange --> 7\n",
      "hrzonerange --> 6\n",
      "samples --> 1\n"
     ]
    }
   ],
   "source": [
    "print_simple_values(ride)"
   ]
  },
  {
   "cell_type": "markdown",
   "metadata": {},
   "source": [
    "### Metrics for the complete activity"
   ]
  },
  {
   "cell_type": "code",
   "execution_count": 12,
   "metadata": {
    "scrolled": false
   },
   "outputs": [
    {
     "name": "stdout",
     "output_type": "stream",
     "text": [
      "a_skiba_xpower --> ['167.89181', '3601.00000']\n",
      "a_skiba_relative_intensity --> ['0.71443', '3601.00000']\n",
      "a_skiba_bike_score --> 51.05566\n",
      "a_skiba_variability_index --> 1.06261\n",
      "a_skiba_response_index --> 1.12220\n",
      "a_coggan_np --> ['168.31373', '3601.00000']\n",
      "a_coggan_if --> ['0.71623', '3601.00000']\n",
      "a_coggan_tss --> 51.31260\n",
      "a_coggam_variability_index --> ['1.06528', '3601.00000']\n",
      "a_friel_efficiency_factor --> 1.12502\n",
      "a_coggan_tssperhour --> ['51.29835', '1.00028']\n",
      "aerobic_decoupling --> 14.11033\n",
      "power_index --> ['59.55876', '1.00000']\n",
      "peak_power_index --> ['69.06904', '1.00000']\n",
      "activity_date --> 44169.00000\n",
      "ride_count --> 1.00000\n",
      "workout_time --> 3601.00000\n",
      "time_recording --> 3601.00000\n",
      "time_riding --> 3600.00000\n",
      "athlete_weight --> 71.30000\n",
      "elevation_loss --> 4.00000\n",
      "total_work --> 568.95400\n",
      "average_power --> ['157.99889', '3601.00000']\n",
      "average_apower --> ['158.31285', '3601.00000']\n",
      "nonzero_power --> ['158.04278', '3600.00000']\n",
      "average_hr --> ['149.60917', '3600.00000']\n",
      "average_ct --> ['37.93080', '3601.00000']\n",
      "heartbeats --> 8976.55000\n",
      "hrpw --> 1.05608\n",
      "wb --> 51.07244\n",
      "wattsRPE --> 31.59978\n",
      "ap_percent_max --> 19.74986\n",
      "hrnp --> 1.12279\n",
      "average_cad --> ['94.42861', '3600.00000']\n",
      "average_temp --> -255.00000\n",
      "max_power --> 261.00000\n",
      "max_heartrate --> 174.00000\n",
      "min_heartrate --> 84.00000\n",
      "max_ct --> 38.67781\n",
      "max_cadence --> 119.00000\n",
      "max_temp --> -255.00000\n",
      "min_temp --> -255.00000\n",
      "ninety_five_percent_hr --> 171.00000\n",
      "eoa --> 0.19832\n",
      "meanpowervariance --> 9.22836\n",
      "maxpowervariance --> 152.00000\n",
      "activity_crc --> 1607245678834.00000\n",
      "atiss_score --> 39.70206\n",
      "antiss_score --> 0.00034\n",
      "cp_setting --> 235.00000\n",
      "skiba_xpower --> ['167.55917', '3601.00000']\n",
      "skiba_relative_intensity --> ['0.71302', '3601.00000']\n",
      "skiba_bike_score --> 50.85355\n",
      "skiba_variability_index --> 1.06051\n",
      "tiss_delta --> 99.99915\n",
      "skiba_response_index --> 1.11998\n",
      "coggan_np --> ['167.98027', '3601.00000']\n",
      "coggan_if --> ['0.71481', '3601.00000']\n",
      "coggan_tss --> 51.10948\n",
      "coggam_variability_index --> ['1.06317', '3601.00000']\n",
      "friel_efficiency_factor --> 1.12279\n",
      "coggan_tssperhour --> ['51.09529', '3601.00000']\n",
      "cpsolver_best_r --> -255.00000\n",
      "daniels_points --> 25.86339\n",
      "daniels_equivalent_power --> 167.58657\n",
      "time_in_zone_H1 --> ['68.00000', '3601.00000']\n",
      "time_in_zone_H2 --> ['861.00000', '3601.00000']\n",
      "time_in_zone_H3 --> ['1545.00000', '3601.00000']\n",
      "time_in_zone_H4 --> ['1127.00000', '3601.00000']\n",
      "percent_in_zone_H1 --> ['1.88836', '3601.00000']\n",
      "percent_in_zone_H2 --> ['23.91002', '3601.00000']\n",
      "percent_in_zone_H3 --> ['42.90475', '3601.00000']\n",
      "percent_in_zone_H4 --> ['31.29686', '3601.00000']\n",
      "percent_in_zone_H5 --> ['0.00000', '3601.00000']\n",
      "percent_in_zone_H6 --> ['0.00000', '3601.00000']\n",
      "percent_in_zone_H7 --> ['0.00000', '3601.00000']\n",
      "percent_in_zone_H8 --> ['0.00000', '3601.00000']\n",
      "percent_in_zone_H9 --> ['0.00000', '3601.00000']\n",
      "percent_in_zone_H10 --> ['0.00000', '3601.00000']\n",
      "peak_percent --> 64.68144\n",
      "power_zone --> 2.61700\n",
      "power_fatigue_index --> 76.62835\n",
      "power_pacing_index --> 60.53597\n",
      "1s_critical_power --> 261.00000\n",
      "5s_critical_power --> 215.80000\n",
      "10s_critical_power --> 207.40000\n",
      "15s_critical_power --> 203.66667\n",
      "20s_critical_power --> 203.85000\n",
      "30s_critical_power --> 202.26667\n",
      "1m_critical_power --> 199.10000\n",
      "2m_critical_power --> 196.95833\n",
      "3m_critical_power --> 196.80000\n",
      "5m_critical_power --> 196.01667\n",
      "8m_critical_power --> 194.85208\n",
      "10m_critical_power --> 193.90000\n",
      "20m_critical_power --> 178.37917\n",
      "30m_critical_power --> 181.92611\n",
      "60m_critical_power --> 158.04278\n",
      "1m_critical_power_hr --> 162.86441\n",
      "5m_critical_power_hr --> 161.09699\n",
      "10m_critical_power_hr --> 158.60935\n",
      "20m_critical_power_hr --> 149.82152\n",
      "30m_critical_power_hr --> 160.05170\n",
      "60m_critical_power_hr --> 149.61073\n",
      "hr_zone --> 3.43046\n",
      "1m_peak_hr --> 172.06667\n",
      "2m_peak_hr --> 171.84167\n",
      "3m_peak_hr --> 171.47222\n",
      "5m_peak_hr --> 171.13333\n",
      "8m_peak_hr --> 169.96667\n",
      "10m_peak_hr --> 169.20833\n",
      "20m_peak_hr --> 163.20083\n",
      "30m_peak_hr --> 161.31944\n",
      "60m_peak_hr --> 149.60917\n",
      "average_run_cad --> ['94.42861', '3600.00000']\n",
      "max_run_cadence --> 119.00000\n",
      "triscore --> 50.85355\n",
      "time_in_zone_L1 --> ['1047.00000', '3601.00000']\n",
      "time_in_zone_L2 --> ['839.00000', '3601.00000']\n",
      "time_in_zone_L3 --> ['1637.00000', '3601.00000']\n",
      "time_in_zone_L4 --> ['74.00000', '3601.00000']\n",
      "time_in_zone_L5 --> ['4.00000', '3601.00000']\n",
      "percent_in_zone_L1 --> ['29.07526', '3601.00000']\n",
      "percent_in_zone_L2 --> ['23.29908', '3601.00000']\n",
      "percent_in_zone_L3 --> ['45.45959', '3601.00000']\n",
      "percent_in_zone_L4 --> ['2.05498', '3601.00000']\n",
      "percent_in_zone_L5 --> ['0.11108', '3601.00000']\n",
      "percent_in_zone_L6 --> ['0.00000', '3601.00000']\n",
      "percent_in_zone_L7 --> ['0.00000', '3601.00000']\n",
      "percent_in_zone_L8 --> ['0.00000', '3601.00000']\n",
      "percent_in_zone_L9 --> ['0.00000', '3601.00000']\n",
      "percent_in_zone_L10 --> ['0.00000', '3601.00000']\n",
      "trimp_points --> 102.17129\n",
      "trimp_100_points --> 64.46258\n",
      "trimp_zonal_points --> 85.27167\n",
      "session_rpe --> 300.00000\n",
      "1s_peak_wpk --> 3.66059\n",
      "5s_peak_wpk --> 3.02665\n",
      "10s_peak_wpk --> 2.90884\n",
      "15s_peak_wpk --> 2.85647\n",
      "20s_peak_wpk --> 2.85905\n",
      "30s_peak_wpk --> 2.83684\n",
      "1m_peak_wpk --> 2.79243\n",
      "5m_peak_wpk --> 2.74918\n",
      "10m_peak_wpk --> 2.71950\n",
      "20m_peak_wpk --> 2.50181\n",
      "30m_peak_wpk --> 2.55156\n",
      "60m_peak_wpk --> 2.21659\n",
      "vo2max --> ['36.69116', '1.00000']\n",
      "average_wpk --> ['2.21597', '3601.00000']\n",
      "skiba_wprime_low --> 17.95323\n",
      "skiba_wprime_max --> 0.25981\n",
      "skiba_wprime_tau --> 568.00000\n",
      "skiba_wprime_exp --> ['0.09600', '8.00000']\n",
      "skiba_wprime_watts --> ['0.02666', '3601.00000']\n",
      "wcptime_in_zone_L1 --> 8.00000\n",
      "wtime_in_zone_L1 --> 3601.00000\n",
      "wwork_in_zone_L1 --> 567.81900\n",
      "skiba_cp_exp --> ['568.85800', '3601.00000']\n",
      "compatibility_3 --> ['167.98027', '3601.00000']\n",
      "compatibility_2 --> ['0.71481', '3601.00000']\n",
      "compatibility_1 --> ['51.10948', '3601.00000']\n"
     ]
    }
   ],
   "source": [
    "act_metrics = ride['METRICS']\n",
    "for k, v in act_metrics.items():\n",
    "    print('{} --> {}'.format(k, v))"
   ]
  },
  {
   "cell_type": "markdown",
   "metadata": {},
   "source": [
    "## Tags"
   ]
  },
  {
   "cell_type": "code",
   "execution_count": 13,
   "metadata": {},
   "outputs": [
    {
     "name": "stdout",
     "output_type": "stream",
     "text": [
      "Aerobic TISS --> 0 \n",
      "Anaerobic TISS --> 0 \n",
      "Athlete --> david \n",
      "Average Cadence --> 0 \n",
      "Average Heart Rate --> 0 \n",
      "Average Power --> 0 \n",
      "Average Speed --> 0 \n",
      "BikeScore™ --> 0 \n",
      "BikeStress --> 0 \n",
      "CP --> 0 \n",
      "Calendar Text --> 2 z 15' L3\n",
      " \n",
      "Change History --> Cambios en lun. dic. 7 00:21:37 2020:\n",
      "Cambios en lun. dic. 7 00:22:06 2020:\n",
      "Cambios en lun. dic. 7 00:22:50 2020:\n",
      "Cambios en lun. dic. 7 00:24:33 2020:\n",
      "Cambios en lun. dic. 7 00:26:18 2020:\n",
      "Cambios en lun. dic. 7 00:26:18 2020:\n",
      "Cambios en lun. dic. 7 00:32:11 2020:\n",
      " \n",
      "Daniels EqP --> 0 \n",
      "Daniels Points --> 0 \n",
      "Data --> T--PHC-A------- \n",
      "Device --> Polar V650 \n",
      "Device Info -->  \n",
      "Distance --> 0 \n",
      "Duration --> 0 \n",
      "Elevation Gain --> 0 \n",
      "File Format -->  \n",
      "Filename --> 2020_12_06_10_07_56.json \n",
      "GOVSS --> 0 \n",
      "Keywords --> L3,Tempo \n",
      "Month --> diciembre \n",
      "Notes --> Sin datos de velocidad y distancia. No se detectó el sensor de velocidad.\n",
      "Sin ventilación.\n",
      "Primera sesión de rodillo en meses, a punto de parar en varias ocasiones. \n",
      "Objective --> 15' WU + 3 x 1' @110\n",
      "2 z 15' L3 + 5' R\n",
      " \n",
      "Pool Length --> 0 \n",
      "RPE --> 5 \n",
      "Route --> 2 z 15' L3 \n",
      "Source Filename --> David_Vazquez+Garcia_2020-12-06_10-07-55_2020_12_06_10_07_56.TCX \n",
      "Sport --> Bike \n",
      "SubSport --> Rodillo \n",
      "SwimScore --> 0 \n",
      "TSS --> 0 \n",
      "Time Moving --> 0 \n",
      "Weekday --> dom. \n",
      "Weight --> 0 \n",
      "Work --> 0 \n",
      "Workout Code --> Entreno \n",
      "Year --> 2020 \n",
      "xPower --> 0 \n"
     ]
    }
   ],
   "source": [
    "tags = ride['TAGS']\n",
    "for k, v in tags.items():\n",
    "    print('{} --> {}'.format(k, v))"
   ]
  },
  {
   "cell_type": "markdown",
   "metadata": {},
   "source": [
    "## Intervals\n",
    "\n",
    "> **Note:** all interval names have a trailing space\n",
    "\n",
    "All intervals are listed here:\n",
    "\n",
    "- User-defined intervals.\n",
    "- Segments (tracked intervals), even when the interval has not been renamed to match the segment name.\n",
    "- Automatically generated intervals (best efforts, matches, etc.)\n",
    "\n",
    "If an interval is also a segment (an interval that is being tracked), it appears twice in the list."
   ]
  },
  {
   "cell_type": "code",
   "execution_count": 14,
   "metadata": {},
   "outputs": [
    {
     "name": "stdout",
     "output_type": "stream",
     "text": [
      "Actividad Completa \n",
      "Int 1 \n",
      "15' L3 @95 \n",
      "Int 3 \n",
      "15' L3 @95 \n",
      "Int 5 \n",
      "1 segundo (261 vatios) \n",
      "5 segundos (215 vatios) \n",
      "10 segundos (207 vatios) \n",
      "15 segundos (203 vatios) \n",
      "20 segundos (203 vatios) \n",
      "30 segundos (202 vatios) \n",
      "1 minuto (199 vatios) \n",
      "5 minutos (196 vatios) \n",
      "10 minutos (193 vatios) \n",
      "20 minutos (178 vatios) \n",
      "30 minutos (181 vatios) \n",
      "45 minutos (172 vatios) \n",
      "1 hora (158 vatios) \n"
     ]
    }
   ],
   "source": [
    "intervals = ride['INTERVALS']\n",
    "for interv in intervals:\n",
    "    name = interv['name']\n",
    "    print(name)"
   ]
  },
  {
   "cell_type": "markdown",
   "metadata": {},
   "source": [
    "For each interval, the same metrics are included."
   ]
  },
  {
   "cell_type": "code",
   "execution_count": 15,
   "metadata": {
    "scrolled": false
   },
   "outputs": [
    {
     "name": "stdout",
     "output_type": "stream",
     "text": [
      "a_skiba_xpower --> ['189.57238', '901.00000']\n",
      "a_skiba_relative_intensity --> ['0.80669', '901.00000']\n",
      "a_skiba_bike_score --> 16.28684\n",
      "a_skiba_variability_index --> 0.98810\n",
      "a_skiba_response_index --> 1.22591\n",
      "a_coggan_np --> ['191.15691', '901.00000']\n",
      "a_coggan_if --> ['0.81343', '901.00000']\n",
      "a_coggan_tss --> 16.56024\n",
      "a_coggam_variability_index --> ['0.99636', '901.00000']\n",
      "a_friel_efficiency_factor --> 1.23616\n",
      "a_coggan_tssperhour --> ['66.16743', '0.25028']\n",
      "aerobic_decoupling --> 3.62929\n",
      "power_index --> ['69.04825', '1.00000']\n",
      "activity_date --> 44169.00000\n",
      "ride_count --> 1.00000\n",
      "elapsed_time --> 900.00000\n",
      "workout_time --> 901.00000\n",
      "time_recording --> 901.00000\n",
      "time_riding --> 901.00000\n",
      "athlete_weight --> 71.30000\n",
      "total_work --> 172.86200\n",
      "average_power --> ['191.85572', '901.00000']\n",
      "average_apower --> ['192.23801', '901.00000']\n",
      "nonzero_power --> ['191.85572', '901.00000']\n",
      "average_hr --> ['154.63818', '901.00000']\n",
      "average_ct --> ['37.69494', '901.00000']\n",
      "heartbeats --> 2322.15000\n",
      "hrpw --> 1.24067\n",
      "wb --> 4.01411\n",
      "wattsRPE --> 38.37114\n",
      "ap_percent_max --> 23.98196\n",
      "hrnp --> 1.23370\n",
      "average_cad --> ['94.36626', '901.00000']\n",
      "average_temp --> -255.00000\n",
      "max_power --> 245.00000\n",
      "max_heartrate --> 165.00000\n",
      "min_heartrate --> 134.00000\n",
      "max_ct --> 38.00018\n",
      "max_cadence --> 100.00000\n",
      "max_temp --> -255.00000\n",
      "min_temp --> -255.00000\n",
      "ninety_five_percent_hr --> 164.00000\n",
      "eoa --> 0.19887\n",
      "meanpowervariance --> 13.73077\n",
      "maxpowervariance --> 217.00000\n",
      "activity_crc --> 1607245678834.00000\n",
      "atiss_score --> 14.64775\n",
      "antiss_score --> 0.00014\n",
      "cp_setting --> 235.00000\n",
      "skiba_xpower --> ['189.19598', '901.00000']\n",
      "skiba_relative_intensity --> ['0.80509', '901.00000']\n",
      "skiba_bike_score --> 16.22222\n",
      "skiba_variability_index --> 0.98614\n",
      "tiss_delta --> 99.99905\n",
      "skiba_response_index --> 1.22348\n",
      "coggan_np --> ['190.77704', '901.00000']\n",
      "coggan_if --> ['0.81182', '901.00000']\n",
      "coggan_tss --> 16.49449\n",
      "coggam_variability_index --> ['0.99438', '901.00000']\n",
      "friel_efficiency_factor --> 1.23370\n",
      "coggan_tssperhour --> ['65.90472', '901.00000']\n",
      "cpsolver_best_r --> -255.00000\n",
      "daniels_points --> 10.59405\n",
      "daniels_equivalent_power --> 189.55175\n",
      "time_in_zone_H2 --> ['43.00000', '901.00000']\n",
      "time_in_zone_H3 --> ['620.00000', '901.00000']\n",
      "time_in_zone_H4 --> ['238.00000', '901.00000']\n",
      "percent_in_zone_H2 --> ['4.77248', '901.00000']\n",
      "percent_in_zone_H3 --> ['68.81243', '901.00000']\n",
      "percent_in_zone_H4 --> ['26.41509', '901.00000']\n",
      "percent_in_zone_H5 --> ['0.00000', '901.00000']\n",
      "percent_in_zone_H6 --> ['0.00000', '901.00000']\n",
      "percent_in_zone_H7 --> ['0.00000', '901.00000']\n",
      "percent_in_zone_H8 --> ['0.00000', '901.00000']\n",
      "percent_in_zone_H9 --> ['0.00000', '901.00000']\n",
      "percent_in_zone_H10 --> ['0.00000', '901.00000']\n",
      "peak_percent --> 72.77540\n",
      "power_zone --> 3.45302\n",
      "power_fatigue_index --> 31.83673\n",
      "power_pacing_index --> 78.30846\n",
      "1s_critical_power --> 245.00000\n",
      "5s_critical_power --> 214.40000\n",
      "10s_critical_power --> 207.40000\n",
      "15s_critical_power --> 203.66667\n",
      "20s_critical_power --> 203.85000\n",
      "30s_critical_power --> 202.26667\n",
      "1m_critical_power --> 199.10000\n",
      "2m_critical_power --> 196.95833\n",
      "3m_critical_power --> 196.80000\n",
      "5m_critical_power --> 196.01667\n",
      "8m_critical_power --> 194.85208\n",
      "10m_critical_power --> 193.90000\n",
      "1m_critical_power_hr --> 162.86441\n",
      "5m_critical_power_hr --> 161.09699\n",
      "10m_critical_power_hr --> 158.60935\n",
      "hr_zone --> 3.68191\n",
      "1m_peak_hr --> 164.25000\n",
      "2m_peak_hr --> 163.11667\n",
      "3m_peak_hr --> 162.66667\n",
      "5m_peak_hr --> 161.52667\n",
      "8m_peak_hr --> 159.87500\n",
      "10m_peak_hr --> 158.63667\n",
      "average_run_cad --> ['94.36626', '901.00000']\n",
      "max_run_cadence --> 100.00000\n",
      "triscore --> 16.22222\n",
      "time_in_zone_L2 --> ['45.00000', '901.00000']\n",
      "time_in_zone_L3 --> ['816.00000', '901.00000']\n",
      "time_in_zone_L4 --> ['40.00000', '901.00000']\n",
      "percent_in_zone_L2 --> ['4.99445', '901.00000']\n",
      "percent_in_zone_L3 --> ['90.56604', '901.00000']\n",
      "percent_in_zone_L4 --> ['4.43951', '901.00000']\n",
      "percent_in_zone_L6 --> ['0.00000', '901.00000']\n",
      "percent_in_zone_L7 --> ['0.00000', '901.00000']\n",
      "percent_in_zone_L8 --> ['0.00000', '901.00000']\n",
      "percent_in_zone_L9 --> ['0.00000', '901.00000']\n",
      "percent_in_zone_L10 --> ['0.00000', '901.00000']\n",
      "trimp_points --> 28.58244\n",
      "trimp_100_points --> 18.03342\n",
      "trimp_zonal_points --> 21.12167\n",
      "session_rpe --> 75.08333\n",
      "1s_peak_wpk --> 3.43619\n",
      "5s_peak_wpk --> 3.00701\n",
      "10s_peak_wpk --> 2.90884\n",
      "15s_peak_wpk --> 2.85647\n",
      "20s_peak_wpk --> 2.85905\n",
      "30s_peak_wpk --> 2.83684\n",
      "1m_peak_wpk --> 2.79243\n",
      "5m_peak_wpk --> 2.74918\n",
      "10m_peak_wpk --> 2.71950\n",
      "vo2max --> ['36.69116', '1.00000']\n",
      "average_wpk --> ['2.69082', '901.00000']\n",
      "skiba_wprime_low --> 17.95323\n",
      "skiba_wprime_max --> 0.25981\n",
      "skiba_wprime_tau --> 568.00000\n",
      "skiba_wprime_exp --> ['0.01000', '1.00000']\n",
      "skiba_wprime_watts --> ['0.01110', '901.00000']\n",
      "wcptime_in_zone_L1 --> 8.00000\n",
      "wtime_in_zone_L1 --> 3601.00000\n",
      "wwork_in_zone_L1 --> 567.81900\n",
      "skiba_cp_exp --> ['172.85200', '901.00000']\n",
      "compatibility_3 --> ['190.77704', '901.00000']\n",
      "compatibility_2 --> ['0.81182', '901.00000']\n",
      "compatibility_1 --> ['16.49449', '901.00000']\n"
     ]
    }
   ],
   "source": [
    "interv = intervals[2]\n",
    "int_metrics = interv['METRICS']\n",
    "for k, v in int_metrics.items():\n",
    "    print('{} --> {}'.format(k, v))"
   ]
  }
 ],
 "metadata": {
  "kernelspec": {
   "display_name": "Python 3",
   "language": "python",
   "name": "python3"
  },
  "language_info": {
   "codemirror_mode": {
    "name": "ipython",
    "version": 3
   },
   "file_extension": ".py",
   "mimetype": "text/x-python",
   "name": "python",
   "nbconvert_exporter": "python",
   "pygments_lexer": "ipython3",
   "version": "3.8.5"
  }
 },
 "nbformat": 4,
 "nbformat_minor": 4
}

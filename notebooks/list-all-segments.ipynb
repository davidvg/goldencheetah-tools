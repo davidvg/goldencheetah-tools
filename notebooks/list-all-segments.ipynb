{
 "cells": [
  {
   "cell_type": "markdown",
   "metadata": {},
   "source": [
    "# Listing all the segments in the database\n",
    "\n",
    "How to list all the segments (tracked intervals) in the database."
   ]
  },
  {
   "cell_type": "code",
   "execution_count": 1,
   "metadata": {},
   "outputs": [],
   "source": [
    "import xml.etree.ElementTree as et"
   ]
  },
  {
   "cell_type": "code",
   "execution_count": 2,
   "metadata": {},
   "outputs": [],
   "source": [
    "xml_file = '/home/david/Documentos/goldencheetah/david/config/routes.xml'"
   ]
  },
  {
   "cell_type": "code",
   "execution_count": 3,
   "metadata": {},
   "outputs": [],
   "source": [
    "tree = et.parse(xml_file)\n",
    "root = tree.getroot()"
   ]
  },
  {
   "cell_type": "markdown",
   "metadata": {},
   "source": [
    "## Create a list of all the segments\n",
    "\n",
    "Also, create a dictionary for counting the repetitions for each segment.\n",
    "\n",
    "This count must be done in:\n",
    "\n",
    "- An activity file. **It requires that the intervals have been renamed to match the segment name**.\n",
    "- The `rideDB.json` file."
   ]
  },
  {
   "cell_type": "code",
   "execution_count": 4,
   "metadata": {},
   "outputs": [],
   "source": [
    "segments = []\n",
    "counts = {}"
   ]
  },
  {
   "cell_type": "code",
   "execution_count": 5,
   "metadata": {},
   "outputs": [
    {
     "name": "stdout",
     "output_type": "stream",
     "text": [
      "Trubia (por Beloño)\n",
      "La Miranda (por Villabona poblado)\n",
      "La Cruz de Peón (desde El Pedroso)\n",
      "Fario (por La Fumarea)\n",
      "Curbiellu (por Camín San Miguel)\n",
      "La Fumarea Completa (por Peón)\n",
      "Monteana + Melendrera\n",
      "Camín del Rocinón (por Carbaínos)\n",
      "Camín de l'Arquera\n",
      "Repecho Carretera Santurio - Camino Cotarón\n",
      "Repecho Lavadero Deva - Carretera Santurio\n",
      "Repecho Iglesia Bernueces\n",
      "Picu San Martin (por Camocha)\n",
      "Picu'l Sol\n",
      "Camín del Curbiellu (por Curbiellu)\n",
      "Albandi AS-388 (por Aboño)\n",
      "Samartín de Podes (por Verdicio)\n",
      "Viodo (por Bañugues)\n",
      "Ponderoso (por Bañugues)\n",
      "La Campa (por Villaviciosa)\n",
      "Collada de Olleros (por La Robla)\n",
      "Aralla - desde desvío túnel (por Aralla)\n",
      "Aralla - Túnel (por Aralla)\n",
      "Embalse Barrios de Luna\n",
      "Subida Dupont - Cancienes\n",
      "Alto Carcedo (por Carcedo)\n",
      "Alto Praviano (por Soto del Barco)\n",
      "Alto Praviano (por Carcedo)\n",
      "Muros del Nalón (por Soto del Barco)\n",
      "Alto Carcedo (por Piedras Blancas)\n",
      "Falcún (por Monteana)\n",
      "Repecho Trubia\n",
      "Melendrera (por Monteana)\n",
      "Veranes (por Serín)\n",
      "Infanzón (por Providencia)\n",
      "Infanzón (por camping)\n",
      "Curbiellu (por Infanzón)\n",
      "Infanzón (por Somió)\n",
      "Repecho Tabaza\n",
      "La Reigada (desde rotonda La Carriona)\n",
      "La Reigada (desde La Laguna)\n",
      "La Cruz de Peón (desde Villaviciosa)\n",
      "Alto de Buenos Aires (desde Colunga)\n",
      "Curbiellu (desde Peón)\n",
      "Alto de Buenos Aires (desde Villaviciosa)\n",
      "Madera (por Arniella)\n",
      "Gargantada (por El Berrón)\n",
      "Faya los Llobos (por Barredos)\n",
      "Subida Vega - La Collada\n",
      "Subida Campa Torres\n",
      "Subida Tazones - La Talaya\n",
      "Subida Puente Arroes - Venta la Esperanza\n",
      "Subida Puente Arroes - Venta las Ranas\n",
      "Subida Villaviciosa - El Pedroso\n",
      "Repecho Montico - Cruciada\n",
      "Repecho viaducto Serín\n",
      "Subida Sotiello - Desvío Cabo Noval\n",
      "Albandi AS-338 (por Perlora)\n",
      "Repecho Candás > Luanco\n",
      "Subida La Collada (por Muncó)\n",
      "Subida Muncó (por Siero)\n",
      "Repecho San Andrés > Serín\n",
      "Repecho San Andrés > Gijón\n",
      "Vuelta 2\n",
      "Madera (por Gijón)\n",
      "Repecho La Vega - Villabona\n",
      "Repecho Cespedera\n",
      "Tamón - Rotonda Montico\n"
     ]
    }
   ],
   "source": [
    "for route in root:\n",
    "    name = route.find('name').text\n",
    "    if name not in segments:\n",
    "        segments.append(name)\n",
    "        counts[name] = None\n",
    "\n",
    "for s in segments:\n",
    "    print(s)"
   ]
  },
  {
   "cell_type": "code",
   "execution_count": null,
   "metadata": {},
   "outputs": [],
   "source": []
  }
 ],
 "metadata": {
  "kernelspec": {
   "display_name": "Python 3",
   "language": "python",
   "name": "python3"
  },
  "language_info": {
   "codemirror_mode": {
    "name": "ipython",
    "version": 3
   },
   "file_extension": ".py",
   "mimetype": "text/x-python",
   "name": "python",
   "nbconvert_exporter": "python",
   "pygments_lexer": "ipython3",
   "version": "3.8.5"
  }
 },
 "nbformat": 4,
 "nbformat_minor": 4
}
